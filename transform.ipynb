{
 "cells": [
  {
   "cell_type": "code",
   "execution_count": 46,
   "id": "ba52bbfa-fc57-42dc-9e17-d821ca3e8437",
   "metadata": {},
   "outputs": [],
   "source": [
    "import json\n",
    "import numpy as np\n",
    "import pandas as pd \n",
    "import re"
   ]
  },
  {
   "cell_type": "code",
   "execution_count": 2,
   "id": "a2fd4175-5901-4962-8696-b35a1a8edbcc",
   "metadata": {},
   "outputs": [],
   "source": [
    "file_dir = 'wikipedia-movies.json'"
   ]
  },
  {
   "cell_type": "code",
   "execution_count": 3,
   "id": "f33fddbe-607a-4c40-b8c0-609177a8a775",
   "metadata": {},
   "outputs": [],
   "source": [
    "with open(file_dir, mode='r') as file:\n",
    "    wiki_movies_raw = json.load(file)"
   ]
  },
  {
   "cell_type": "code",
   "execution_count": 4,
   "id": "5ca441b2",
   "metadata": {},
   "outputs": [],
   "source": [
    "kaggle_metadata = pd.read_csv('archive/movies_metadata.csv', low_memory=False)\n",
    "ratings = pd.read_csv('archive/ratings.csv')"
   ]
  },
  {
   "cell_type": "code",
   "execution_count": 5,
   "id": "8f8eaa5d",
   "metadata": {},
   "outputs": [],
   "source": [
    "wiki_movies_df = pd.DataFrame(wiki_movies_raw)"
   ]
  },
  {
   "cell_type": "code",
   "execution_count": 6,
   "id": "7106c17c",
   "metadata": {},
   "outputs": [],
   "source": [
    "wiki_movies = [\n",
    "    movie for movie in wiki_movies_raw\n",
    "    if ('Director' in movie or 'Directed by' in movie)\n",
    "    and 'imdb_link' in movie\n",
    "    and 'No. of episodes' not in movie\n",
    "] "
   ]
  },
  {
   "cell_type": "code",
   "execution_count": 7,
   "id": "0b12a56c-cbab-4f5d-9cf1-6c84f4f151a1",
   "metadata": {},
   "outputs": [],
   "source": [
    "def clean_movie(movie):\n",
    "    '''\n",
    "    This function takes in a movie from our 'wikipedia-movies.json'. \n",
    "    If one or more alternate titles exist, those are added to a new 'alt_title' key, which will manifest as a column in our subsequently created wiki_movies_df DataFrame. \n",
    "    Additionally, it will take remove redundant columns, adding the value to the desired new column name. \n",
    "    It returns the cleaned-up movie dictionary. \n",
    "    '''\n",
    "    movie = dict(movie)\n",
    "    \n",
    "    alt_titles = {}\n",
    "    alt_title_keys =[    \n",
    "        'Also known as','Arabic','Cantonese','Chinese','French',\n",
    "        'Hangul','Hebrew','Hepburn','Japanese','Literally',\n",
    "        'Mandarin','McCune–Reischauer','Original title','Polish',\n",
    "        'Revised Romanization','Romanized','Russian',\n",
    "        'Simplified','Traditional','Yiddish'\n",
    "    ]\n",
    "    for key in alt_title_keys:\n",
    "        if key in movie:\n",
    "            alt_titles[key] = movie[key]\n",
    "            movie.pop(key)\n",
    "            \n",
    "    if len(alt_titles) > 0:\n",
    "        movie['alt_titles'] = alt_titles\n",
    "        \n",
    "    def change_column_name(old_name, new_name):\n",
    "        if old_name in movie:\n",
    "            movie[new_name] = movie.pop(old_name)\n",
    "    \n",
    "    # a list of column names to use with change_column_name(); each tuple is the old name and the desired new name\n",
    "    column_names_to_change = [\n",
    "        ('Adaptation by', 'Writer(s)'), ('Country of origin', 'Country'), ('Directed by', 'Director'), \n",
    "        ('Distributed by', 'Distributor'), ('Edited by', 'Editor(s)'), ('Length', 'Running time'), \n",
    "        ('Original release', 'Release date'), ('Music by', 'Composer(s)'), ('Produced by', 'Producer(s)'), \n",
    "        ('Producer', 'Producer(s)'), ('Productioncompanies ', 'Production company(s)'), ('Productioncompany ', 'Production company(s)'),\n",
    "        ('Released', 'Release Date'), ('Release Date', 'Release date'), ('Screen story by', 'Writer(s)'), \n",
    "        ('Screenplay by', 'Writer(s)'), ('Story by', 'Writer(s)'), ('Theme music composer', 'Composer(s)'), \n",
    "        ('Written by', 'Writer(s)')\n",
    "    ]\n",
    "    \n",
    "    for old_name, new_name in column_names_to_change:\n",
    "        change_column_name(old_name, new_name)\n",
    "        \n",
    "    return movie"
   ]
  },
  {
   "cell_type": "code",
   "execution_count": 8,
   "id": "57398aaa-0b89-4fb7-b933-a6b603858396",
   "metadata": {},
   "outputs": [],
   "source": [
    "clean_movies = [clean_movie(movie) for movie in wiki_movies]"
   ]
  },
  {
   "cell_type": "code",
   "execution_count": 9,
   "id": "6d0041cd-f6bd-4ccb-b80d-d76955cafc25",
   "metadata": {},
   "outputs": [],
   "source": [
    "wiki_movies_df = pd.DataFrame(clean_movies)"
   ]
  },
  {
   "cell_type": "code",
   "execution_count": 10,
   "id": "b4f830b2-750f-4cd0-8fde-899e91aedda3",
   "metadata": {},
   "outputs": [
    {
     "data": {
      "text/plain": [
       "['Animation by',\n",
       " 'Audio format',\n",
       " 'Based on',\n",
       " 'Box office',\n",
       " 'Budget',\n",
       " 'Cinematography',\n",
       " 'Color process',\n",
       " 'Composer(s)',\n",
       " 'Country',\n",
       " 'Created by',\n",
       " 'Director',\n",
       " 'Distributor',\n",
       " 'Editor(s)',\n",
       " 'Executive producer(s)',\n",
       " 'Followed by',\n",
       " 'Genre',\n",
       " 'Label',\n",
       " 'Language',\n",
       " 'Narrated by',\n",
       " 'Original language(s)',\n",
       " 'Original network',\n",
       " 'Picture format',\n",
       " 'Preceded by',\n",
       " 'Producer(s)',\n",
       " 'Production company(s)',\n",
       " 'Production location(s)',\n",
       " 'Recorded',\n",
       " 'Release date',\n",
       " 'Running time',\n",
       " 'Starring',\n",
       " 'Suggested by',\n",
       " 'Venue',\n",
       " 'Voices of',\n",
       " 'Writer(s)',\n",
       " 'alt_titles',\n",
       " 'imdb_link',\n",
       " 'title',\n",
       " 'url',\n",
       " 'year']"
      ]
     },
     "execution_count": 10,
     "metadata": {},
     "output_type": "execute_result"
    }
   ],
   "source": [
    "# review columns\n",
    "sorted(wiki_movies_df.columns.tolist())"
   ]
  },
  {
   "cell_type": "code",
   "execution_count": 11,
   "id": "611642b1-f671-4a2f-bfab-362fc3e613e1",
   "metadata": {},
   "outputs": [],
   "source": [
    "wiki_movies_df['imdb_id'] = wiki_movies_df['imdb_link'].str.extract(r'(tt\\d{7})')"
   ]
  },
  {
   "cell_type": "code",
   "execution_count": 12,
   "id": "3211ecb1-401e-4562-8bc5-08954cbe317b",
   "metadata": {},
   "outputs": [
    {
     "name": "stdout",
     "output_type": "stream",
     "text": [
      "7076\n",
      "7033\n"
     ]
    }
   ],
   "source": [
    "print(len(wiki_movies_df))\n",
    "wiki_movies_df.drop_duplicates(subset='imdb_id', inplace=True)\n",
    "print(len(wiki_movies_df))"
   ]
  },
  {
   "cell_type": "code",
   "execution_count": 33,
   "id": "1da3444a-84e8-435d-878f-d01417fd0c7d",
   "metadata": {},
   "outputs": [
    {
     "data": {
      "text/plain": [
       "[['url', 0],\n",
       " ['year', 0],\n",
       " ['imdb_link', 0],\n",
       " ['title', 1],\n",
       " ['Based on', 4852],\n",
       " ['Starring', 184],\n",
       " ['Cinematography', 691],\n",
       " ['Release date', 32],\n",
       " ['Running time', 139],\n",
       " ['Country', 236],\n",
       " ['Language', 244],\n",
       " ['Budget', 2295],\n",
       " ['Box office', 1548],\n",
       " ['Director', 0],\n",
       " ['Distributor', 357],\n",
       " ['Editor(s)', 548],\n",
       " ['Composer(s)', 518],\n",
       " ['Producer(s)', 202],\n",
       " ['Production company(s)', 1678],\n",
       " ['Writer(s)', 199],\n",
       " ['imdb_id', 0]]"
      ]
     },
     "execution_count": 33,
     "metadata": {},
     "output_type": "execute_result"
    }
   ],
   "source": [
    "# get a count of null values for each column\n",
    "[[column, wiki_movies_df[column].isnull().sum()] for column in wiki_movies_df.columns]"
   ]
  },
  {
   "cell_type": "code",
   "execution_count": 34,
   "id": "6b200af5-3046-4e29-8aa0-91b955cc9bc3",
   "metadata": {},
   "outputs": [],
   "source": [
    "# get columns that have less than 90% null values; update the wiki_movies_df\n",
    "wiki_columns_to_keep = [column for column in wiki_movies_df.columns if wiki_movies_df[column].isnull().sum() < (len(wiki_movies_df) * 0.9)]\n",
    "wiki_movies_df = wiki_movies_df[wiki_columns_to_keep]"
   ]
  },
  {
   "cell_type": "code",
   "execution_count": 35,
   "id": "2036bfa2-98fe-4307-ae91-3d359583d3b0",
   "metadata": {},
   "outputs": [
    {
     "data": {
      "text/plain": [
       "['Based on',\n",
       " 'Box office',\n",
       " 'Budget',\n",
       " 'Cinematography',\n",
       " 'Composer(s)',\n",
       " 'Country',\n",
       " 'Director',\n",
       " 'Distributor',\n",
       " 'Editor(s)',\n",
       " 'Language',\n",
       " 'Producer(s)',\n",
       " 'Production company(s)',\n",
       " 'Release date',\n",
       " 'Running time',\n",
       " 'Starring',\n",
       " 'Writer(s)',\n",
       " 'imdb_id',\n",
       " 'imdb_link',\n",
       " 'title',\n",
       " 'url',\n",
       " 'year']"
      ]
     },
     "execution_count": 35,
     "metadata": {},
     "output_type": "execute_result"
    }
   ],
   "source": [
    "sorted(wiki_movies_df.columns.tolist())"
   ]
  },
  {
   "cell_type": "code",
   "execution_count": 39,
   "id": "be2a81bb-95a5-485d-82aa-d78c255c74f0",
   "metadata": {},
   "outputs": [],
   "source": [
    "# clean box office data\n",
    "box_office = wiki_movies_df['Box office'].dropna()"
   ]
  },
  {
   "cell_type": "code",
   "execution_count": 40,
   "id": "ca58c76c-65d0-4244-8515-5a606395f63c",
   "metadata": {},
   "outputs": [],
   "source": [
    "# define a function to let us know whether a value is not a string\n",
    "def is_not_a_string(x):\n",
    "    return type(x) != str"
   ]
  },
  {
   "cell_type": "code",
   "execution_count": 42,
   "id": "6f84ef2e-95c8-4416-9722-bb5af2d00871",
   "metadata": {},
   "outputs": [
    {
     "data": {
      "text/plain": [
       "34                           [US$, 4,212,828]\n",
       "54      [$6,698,361 (, United States, ), [2]]\n",
       "74                    [$6,488,144, (US), [1]]\n",
       "126                [US$1,531,489, (domestic)]\n",
       "130                          [US$, 4,803,039]\n",
       "                        ...                  \n",
       "6980               [$99.6, million, [4], [5]]\n",
       "6994                   [$365.6, million, [1]]\n",
       "6995                         [$53.8, million]\n",
       "7015                     [$435, million, [7]]\n",
       "7048                   [$529.3, million, [4]]\n",
       "Name: Box office, Length: 135, dtype: object"
      ]
     },
     "execution_count": 42,
     "metadata": {},
     "output_type": "execute_result"
    }
   ],
   "source": [
    "# map above function to box_office\n",
    "box_office[box_office.map(is_not_a_string)]"
   ]
  },
  {
   "cell_type": "code",
   "execution_count": 44,
   "id": "150a1229-5303-4751-94fe-25645197c156",
   "metadata": {},
   "outputs": [],
   "source": [
    "# on second though, let's use a lambda function \n",
    "box_office[box_office.map(lambda x: type(x) != str)]\n",
    "\n",
    "# join box office information if it is a list\n",
    "box_office = box_office.apply(lambda x: ' '.join(x) if type(x) == list else x)"
   ]
  },
  {
   "cell_type": "code",
   "execution_count": null,
   "id": "84698844-381c-4ab7-9749-04eecf2078d2",
   "metadata": {},
   "outputs": [],
   "source": []
  }
 ],
 "metadata": {
  "kernelspec": {
   "display_name": "PythonData",
   "language": "python",
   "name": "pythondata"
  },
  "language_info": {
   "codemirror_mode": {
    "name": "ipython",
    "version": 3
   },
   "file_extension": ".py",
   "mimetype": "text/x-python",
   "name": "python",
   "nbconvert_exporter": "python",
   "pygments_lexer": "ipython3",
   "version": "3.7.13"
  }
 },
 "nbformat": 4,
 "nbformat_minor": 5
}
